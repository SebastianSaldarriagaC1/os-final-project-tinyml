{
  "nbformat": 4,
  "nbformat_minor": 0,
  "metadata": {
    "colab": {
      "provenance": [],
      "include_colab_link": true
    },
    "kernelspec": {
      "name": "python3",
      "display_name": "Python 3"
    },
    "language_info": {
      "name": "python"
    }
  },
  "cells": [
    {
      "cell_type": "markdown",
      "metadata": {
        "id": "view-in-github",
        "colab_type": "text"
      },
      "source": [
        "<a href=\"https://colab.research.google.com/github/SebastianSaldarriagaC1/os-final-project-tinyml/blob/main/TinyML02_Model_training.ipynb\" target=\"_parent\"><img src=\"https://colab.research.google.com/assets/colab-badge.svg\" alt=\"Open In Colab\"/></a>"
      ]
    },
    {
      "cell_type": "markdown",
      "source": [
        "# Download preprocessed dataset\n",
        "\n",
        "First, we have to get the cleaned data set from the [TinyML01 - Data preprocessing Notebook](https://colab.research.google.com/drive/1qHDEBMzlEsFVm5CmYwjsLib4Gr91EQuq?authuser=1#scrollTo=H-DEAkH15pCs). This ensures that our data is ready for training, with any noise or irrelevant information already removed, allowing our model to learn more effectively."
      ],
      "metadata": {
        "id": "RARUmW9u8OE-"
      }
    },
    {
      "cell_type": "code",
      "source": [
        "# Import training libraries\n",
        "import numpy as np\n",
        "import pandas as pd\n",
        "from sklearn.preprocessing import StandardScaler\n",
        "from sklearn.model_selection import train_test_split\n",
        "import tensorflow as tf\n",
        "from tensorflow.keras.layers import Input, Dense\n",
        "from tensorflow.keras.models import Model\n",
        "from tensorflow.keras.callbacks import EarlyStopping"
      ],
      "metadata": {
        "id": "qBoCsS1HLUUV"
      },
      "execution_count": null,
      "outputs": []
    },
    {
      "cell_type": "code",
      "execution_count": null,
      "metadata": {
        "colab": {
          "base_uri": "https://localhost:8080/"
        },
        "id": "jnPt43ZM8IPr",
        "outputId": "d06ad807-9cea-4514-9734-9f5f8afae8e5"
      },
      "outputs": [
        {
          "output_type": "stream",
          "name": "stdout",
          "text": [
            "Requirement already satisfied: gdown in /usr/local/lib/python3.10/dist-packages (5.1.0)\n",
            "Requirement already satisfied: beautifulsoup4 in /usr/local/lib/python3.10/dist-packages (from gdown) (4.12.3)\n",
            "Requirement already satisfied: filelock in /usr/local/lib/python3.10/dist-packages (from gdown) (3.14.0)\n",
            "Requirement already satisfied: requests[socks] in /usr/local/lib/python3.10/dist-packages (from gdown) (2.31.0)\n",
            "Requirement already satisfied: tqdm in /usr/local/lib/python3.10/dist-packages (from gdown) (4.66.4)\n",
            "Requirement already satisfied: soupsieve>1.2 in /usr/local/lib/python3.10/dist-packages (from beautifulsoup4->gdown) (2.5)\n",
            "Requirement already satisfied: charset-normalizer<4,>=2 in /usr/local/lib/python3.10/dist-packages (from requests[socks]->gdown) (3.3.2)\n",
            "Requirement already satisfied: idna<4,>=2.5 in /usr/local/lib/python3.10/dist-packages (from requests[socks]->gdown) (3.7)\n",
            "Requirement already satisfied: urllib3<3,>=1.21.1 in /usr/local/lib/python3.10/dist-packages (from requests[socks]->gdown) (2.0.7)\n",
            "Requirement already satisfied: certifi>=2017.4.17 in /usr/local/lib/python3.10/dist-packages (from requests[socks]->gdown) (2024.2.2)\n",
            "Requirement already satisfied: PySocks!=1.5.7,>=1.5.6 in /usr/local/lib/python3.10/dist-packages (from requests[socks]->gdown) (1.7.1)\n"
          ]
        }
      ],
      "source": [
        "!pip install gdown"
      ]
    },
    {
      "cell_type": "code",
      "source": [
        "url = 'https://drive.google.com/uc?id=1lJWy8niBfia6uacFvtpPKLVQpn-zKQmN'\n",
        "output = 'processed-earth-surface-temperature-data.csv'\n",
        "gdown.download(url, output, quiet=False)\n",
        "\n",
        "df = pd.read_csv(output)"
      ],
      "metadata": {
        "colab": {
          "base_uri": "https://localhost:8080/"
        },
        "id": "FuuXrIpl8Yju",
        "outputId": "89359ab4-b096-4c77-a500-500ab047a0e5"
      },
      "execution_count": null,
      "outputs": [
        {
          "output_type": "stream",
          "name": "stderr",
          "text": [
            "Downloading...\n",
            "From (original): https://drive.google.com/uc?id=1lJWy8niBfia6uacFvtpPKLVQpn-zKQmN\n",
            "From (redirected): https://drive.google.com/uc?id=1lJWy8niBfia6uacFvtpPKLVQpn-zKQmN&confirm=t&uuid=7595d221-0999-451b-ac31-ab1bf0ced738\n",
            "To: /content/processed-earth-surface-temperature-data.csv\n",
            "100%|██████████| 202M/202M [00:01<00:00, 136MB/s]\n"
          ]
        }
      ]
    },
    {
      "cell_type": "code",
      "source": [
        "df"
      ],
      "metadata": {
        "colab": {
          "base_uri": "https://localhost:8080/",
          "height": 423
        },
        "id": "km0BSTRr9Img",
        "outputId": "8aeed87e-9ad3-4666-8104-104a05bfb6ba"
      },
      "execution_count": null,
      "outputs": [
        {
          "output_type": "execute_result",
          "data": {
            "text/plain": [
              "         AverageTemperature  Latitude  Longitude  Month  Year\n",
              "0                     6.068     57.05      10.33     11  1743\n",
              "1                    10.644     57.05      10.33      5  1744\n",
              "2                    14.051     57.05      10.33      6  1744\n",
              "3                    16.082     57.05      10.33      7  1744\n",
              "4                    12.781     57.05      10.33      9  1744\n",
              "...                     ...       ...        ...    ...   ...\n",
              "7149067               7.710     52.24       5.26      4  2013\n",
              "7149068              11.464     52.24       5.26      5  2013\n",
              "7149069              15.043     52.24       5.26      6  2013\n",
              "7149070              18.775     52.24       5.26      7  2013\n",
              "7149071              18.025     52.24       5.26      8  2013\n",
              "\n",
              "[7149072 rows x 5 columns]"
            ],
            "text/html": [
              "\n",
              "  <div id=\"df-7a02e015-e3e9-471f-b9b5-d44c502d72a9\" class=\"colab-df-container\">\n",
              "    <div>\n",
              "<style scoped>\n",
              "    .dataframe tbody tr th:only-of-type {\n",
              "        vertical-align: middle;\n",
              "    }\n",
              "\n",
              "    .dataframe tbody tr th {\n",
              "        vertical-align: top;\n",
              "    }\n",
              "\n",
              "    .dataframe thead th {\n",
              "        text-align: right;\n",
              "    }\n",
              "</style>\n",
              "<table border=\"1\" class=\"dataframe\">\n",
              "  <thead>\n",
              "    <tr style=\"text-align: right;\">\n",
              "      <th></th>\n",
              "      <th>AverageTemperature</th>\n",
              "      <th>Latitude</th>\n",
              "      <th>Longitude</th>\n",
              "      <th>Month</th>\n",
              "      <th>Year</th>\n",
              "    </tr>\n",
              "  </thead>\n",
              "  <tbody>\n",
              "    <tr>\n",
              "      <th>0</th>\n",
              "      <td>6.068</td>\n",
              "      <td>57.05</td>\n",
              "      <td>10.33</td>\n",
              "      <td>11</td>\n",
              "      <td>1743</td>\n",
              "    </tr>\n",
              "    <tr>\n",
              "      <th>1</th>\n",
              "      <td>10.644</td>\n",
              "      <td>57.05</td>\n",
              "      <td>10.33</td>\n",
              "      <td>5</td>\n",
              "      <td>1744</td>\n",
              "    </tr>\n",
              "    <tr>\n",
              "      <th>2</th>\n",
              "      <td>14.051</td>\n",
              "      <td>57.05</td>\n",
              "      <td>10.33</td>\n",
              "      <td>6</td>\n",
              "      <td>1744</td>\n",
              "    </tr>\n",
              "    <tr>\n",
              "      <th>3</th>\n",
              "      <td>16.082</td>\n",
              "      <td>57.05</td>\n",
              "      <td>10.33</td>\n",
              "      <td>7</td>\n",
              "      <td>1744</td>\n",
              "    </tr>\n",
              "    <tr>\n",
              "      <th>4</th>\n",
              "      <td>12.781</td>\n",
              "      <td>57.05</td>\n",
              "      <td>10.33</td>\n",
              "      <td>9</td>\n",
              "      <td>1744</td>\n",
              "    </tr>\n",
              "    <tr>\n",
              "      <th>...</th>\n",
              "      <td>...</td>\n",
              "      <td>...</td>\n",
              "      <td>...</td>\n",
              "      <td>...</td>\n",
              "      <td>...</td>\n",
              "    </tr>\n",
              "    <tr>\n",
              "      <th>7149067</th>\n",
              "      <td>7.710</td>\n",
              "      <td>52.24</td>\n",
              "      <td>5.26</td>\n",
              "      <td>4</td>\n",
              "      <td>2013</td>\n",
              "    </tr>\n",
              "    <tr>\n",
              "      <th>7149068</th>\n",
              "      <td>11.464</td>\n",
              "      <td>52.24</td>\n",
              "      <td>5.26</td>\n",
              "      <td>5</td>\n",
              "      <td>2013</td>\n",
              "    </tr>\n",
              "    <tr>\n",
              "      <th>7149069</th>\n",
              "      <td>15.043</td>\n",
              "      <td>52.24</td>\n",
              "      <td>5.26</td>\n",
              "      <td>6</td>\n",
              "      <td>2013</td>\n",
              "    </tr>\n",
              "    <tr>\n",
              "      <th>7149070</th>\n",
              "      <td>18.775</td>\n",
              "      <td>52.24</td>\n",
              "      <td>5.26</td>\n",
              "      <td>7</td>\n",
              "      <td>2013</td>\n",
              "    </tr>\n",
              "    <tr>\n",
              "      <th>7149071</th>\n",
              "      <td>18.025</td>\n",
              "      <td>52.24</td>\n",
              "      <td>5.26</td>\n",
              "      <td>8</td>\n",
              "      <td>2013</td>\n",
              "    </tr>\n",
              "  </tbody>\n",
              "</table>\n",
              "<p>7149072 rows × 5 columns</p>\n",
              "</div>\n",
              "    <div class=\"colab-df-buttons\">\n",
              "\n",
              "  <div class=\"colab-df-container\">\n",
              "    <button class=\"colab-df-convert\" onclick=\"convertToInteractive('df-7a02e015-e3e9-471f-b9b5-d44c502d72a9')\"\n",
              "            title=\"Convert this dataframe to an interactive table.\"\n",
              "            style=\"display:none;\">\n",
              "\n",
              "  <svg xmlns=\"http://www.w3.org/2000/svg\" height=\"24px\" viewBox=\"0 -960 960 960\">\n",
              "    <path d=\"M120-120v-720h720v720H120Zm60-500h600v-160H180v160Zm220 220h160v-160H400v160Zm0 220h160v-160H400v160ZM180-400h160v-160H180v160Zm440 0h160v-160H620v160ZM180-180h160v-160H180v160Zm440 0h160v-160H620v160Z\"/>\n",
              "  </svg>\n",
              "    </button>\n",
              "\n",
              "  <style>\n",
              "    .colab-df-container {\n",
              "      display:flex;\n",
              "      gap: 12px;\n",
              "    }\n",
              "\n",
              "    .colab-df-convert {\n",
              "      background-color: #E8F0FE;\n",
              "      border: none;\n",
              "      border-radius: 50%;\n",
              "      cursor: pointer;\n",
              "      display: none;\n",
              "      fill: #1967D2;\n",
              "      height: 32px;\n",
              "      padding: 0 0 0 0;\n",
              "      width: 32px;\n",
              "    }\n",
              "\n",
              "    .colab-df-convert:hover {\n",
              "      background-color: #E2EBFA;\n",
              "      box-shadow: 0px 1px 2px rgba(60, 64, 67, 0.3), 0px 1px 3px 1px rgba(60, 64, 67, 0.15);\n",
              "      fill: #174EA6;\n",
              "    }\n",
              "\n",
              "    .colab-df-buttons div {\n",
              "      margin-bottom: 4px;\n",
              "    }\n",
              "\n",
              "    [theme=dark] .colab-df-convert {\n",
              "      background-color: #3B4455;\n",
              "      fill: #D2E3FC;\n",
              "    }\n",
              "\n",
              "    [theme=dark] .colab-df-convert:hover {\n",
              "      background-color: #434B5C;\n",
              "      box-shadow: 0px 1px 3px 1px rgba(0, 0, 0, 0.15);\n",
              "      filter: drop-shadow(0px 1px 2px rgba(0, 0, 0, 0.3));\n",
              "      fill: #FFFFFF;\n",
              "    }\n",
              "  </style>\n",
              "\n",
              "    <script>\n",
              "      const buttonEl =\n",
              "        document.querySelector('#df-7a02e015-e3e9-471f-b9b5-d44c502d72a9 button.colab-df-convert');\n",
              "      buttonEl.style.display =\n",
              "        google.colab.kernel.accessAllowed ? 'block' : 'none';\n",
              "\n",
              "      async function convertToInteractive(key) {\n",
              "        const element = document.querySelector('#df-7a02e015-e3e9-471f-b9b5-d44c502d72a9');\n",
              "        const dataTable =\n",
              "          await google.colab.kernel.invokeFunction('convertToInteractive',\n",
              "                                                    [key], {});\n",
              "        if (!dataTable) return;\n",
              "\n",
              "        const docLinkHtml = 'Like what you see? Visit the ' +\n",
              "          '<a target=\"_blank\" href=https://colab.research.google.com/notebooks/data_table.ipynb>data table notebook</a>'\n",
              "          + ' to learn more about interactive tables.';\n",
              "        element.innerHTML = '';\n",
              "        dataTable['output_type'] = 'display_data';\n",
              "        await google.colab.output.renderOutput(dataTable, element);\n",
              "        const docLink = document.createElement('div');\n",
              "        docLink.innerHTML = docLinkHtml;\n",
              "        element.appendChild(docLink);\n",
              "      }\n",
              "    </script>\n",
              "  </div>\n",
              "\n",
              "\n",
              "<div id=\"df-e303fcf7-4639-446c-b01b-fc823fd8012e\">\n",
              "  <button class=\"colab-df-quickchart\" onclick=\"quickchart('df-e303fcf7-4639-446c-b01b-fc823fd8012e')\"\n",
              "            title=\"Suggest charts\"\n",
              "            style=\"display:none;\">\n",
              "\n",
              "<svg xmlns=\"http://www.w3.org/2000/svg\" height=\"24px\"viewBox=\"0 0 24 24\"\n",
              "     width=\"24px\">\n",
              "    <g>\n",
              "        <path d=\"M19 3H5c-1.1 0-2 .9-2 2v14c0 1.1.9 2 2 2h14c1.1 0 2-.9 2-2V5c0-1.1-.9-2-2-2zM9 17H7v-7h2v7zm4 0h-2V7h2v10zm4 0h-2v-4h2v4z\"/>\n",
              "    </g>\n",
              "</svg>\n",
              "  </button>\n",
              "\n",
              "<style>\n",
              "  .colab-df-quickchart {\n",
              "      --bg-color: #E8F0FE;\n",
              "      --fill-color: #1967D2;\n",
              "      --hover-bg-color: #E2EBFA;\n",
              "      --hover-fill-color: #174EA6;\n",
              "      --disabled-fill-color: #AAA;\n",
              "      --disabled-bg-color: #DDD;\n",
              "  }\n",
              "\n",
              "  [theme=dark] .colab-df-quickchart {\n",
              "      --bg-color: #3B4455;\n",
              "      --fill-color: #D2E3FC;\n",
              "      --hover-bg-color: #434B5C;\n",
              "      --hover-fill-color: #FFFFFF;\n",
              "      --disabled-bg-color: #3B4455;\n",
              "      --disabled-fill-color: #666;\n",
              "  }\n",
              "\n",
              "  .colab-df-quickchart {\n",
              "    background-color: var(--bg-color);\n",
              "    border: none;\n",
              "    border-radius: 50%;\n",
              "    cursor: pointer;\n",
              "    display: none;\n",
              "    fill: var(--fill-color);\n",
              "    height: 32px;\n",
              "    padding: 0;\n",
              "    width: 32px;\n",
              "  }\n",
              "\n",
              "  .colab-df-quickchart:hover {\n",
              "    background-color: var(--hover-bg-color);\n",
              "    box-shadow: 0 1px 2px rgba(60, 64, 67, 0.3), 0 1px 3px 1px rgba(60, 64, 67, 0.15);\n",
              "    fill: var(--button-hover-fill-color);\n",
              "  }\n",
              "\n",
              "  .colab-df-quickchart-complete:disabled,\n",
              "  .colab-df-quickchart-complete:disabled:hover {\n",
              "    background-color: var(--disabled-bg-color);\n",
              "    fill: var(--disabled-fill-color);\n",
              "    box-shadow: none;\n",
              "  }\n",
              "\n",
              "  .colab-df-spinner {\n",
              "    border: 2px solid var(--fill-color);\n",
              "    border-color: transparent;\n",
              "    border-bottom-color: var(--fill-color);\n",
              "    animation:\n",
              "      spin 1s steps(1) infinite;\n",
              "  }\n",
              "\n",
              "  @keyframes spin {\n",
              "    0% {\n",
              "      border-color: transparent;\n",
              "      border-bottom-color: var(--fill-color);\n",
              "      border-left-color: var(--fill-color);\n",
              "    }\n",
              "    20% {\n",
              "      border-color: transparent;\n",
              "      border-left-color: var(--fill-color);\n",
              "      border-top-color: var(--fill-color);\n",
              "    }\n",
              "    30% {\n",
              "      border-color: transparent;\n",
              "      border-left-color: var(--fill-color);\n",
              "      border-top-color: var(--fill-color);\n",
              "      border-right-color: var(--fill-color);\n",
              "    }\n",
              "    40% {\n",
              "      border-color: transparent;\n",
              "      border-right-color: var(--fill-color);\n",
              "      border-top-color: var(--fill-color);\n",
              "    }\n",
              "    60% {\n",
              "      border-color: transparent;\n",
              "      border-right-color: var(--fill-color);\n",
              "    }\n",
              "    80% {\n",
              "      border-color: transparent;\n",
              "      border-right-color: var(--fill-color);\n",
              "      border-bottom-color: var(--fill-color);\n",
              "    }\n",
              "    90% {\n",
              "      border-color: transparent;\n",
              "      border-bottom-color: var(--fill-color);\n",
              "    }\n",
              "  }\n",
              "</style>\n",
              "\n",
              "  <script>\n",
              "    async function quickchart(key) {\n",
              "      const quickchartButtonEl =\n",
              "        document.querySelector('#' + key + ' button');\n",
              "      quickchartButtonEl.disabled = true;  // To prevent multiple clicks.\n",
              "      quickchartButtonEl.classList.add('colab-df-spinner');\n",
              "      try {\n",
              "        const charts = await google.colab.kernel.invokeFunction(\n",
              "            'suggestCharts', [key], {});\n",
              "      } catch (error) {\n",
              "        console.error('Error during call to suggestCharts:', error);\n",
              "      }\n",
              "      quickchartButtonEl.classList.remove('colab-df-spinner');\n",
              "      quickchartButtonEl.classList.add('colab-df-quickchart-complete');\n",
              "    }\n",
              "    (() => {\n",
              "      let quickchartButtonEl =\n",
              "        document.querySelector('#df-e303fcf7-4639-446c-b01b-fc823fd8012e button');\n",
              "      quickchartButtonEl.style.display =\n",
              "        google.colab.kernel.accessAllowed ? 'block' : 'none';\n",
              "    })();\n",
              "  </script>\n",
              "</div>\n",
              "    </div>\n",
              "  </div>\n"
            ],
            "application/vnd.google.colaboratory.intrinsic+json": {
              "type": "dataframe",
              "variable_name": "df"
            }
          },
          "metadata": {},
          "execution_count": 4
        }
      ]
    },
    {
      "cell_type": "markdown",
      "source": [
        "# Model Training\n"
      ],
      "metadata": {
        "id": "1m7jDUdO-0de"
      }
    },
    {
      "cell_type": "markdown",
      "source": [
        "## Data normalization\n",
        "\n",
        "First, we preprocess the data by selecting the relevant features that our model will use to learn and make predictions. These features include AverageTemperature, Latitude, Longitude, Month, and Year. After selecting the features, we normalize them using StandardScaler to ensure that all features have a mean of 0 and a standard deviation of 1, which helps in speeding up the training process and achieving better performance."
      ],
      "metadata": {
        "id": "nqOQKJKDmX7K"
      }
    },
    {
      "cell_type": "code",
      "source": [
        "features = df[['AverageTemperature', 'Latitude', 'Longitude', 'Month', 'Year']]\n",
        "\n",
        "scaler = StandardScaler()\n",
        "scaled_features = scaler.fit_transform(features)"
      ],
      "metadata": {
        "id": "-YVfCn6jAeEg"
      },
      "execution_count": null,
      "outputs": []
    },
    {
      "cell_type": "markdown",
      "source": [
        "## Create autoencoder model\n",
        "\n",
        "Here, we define and build our autoencoder model. An autoencoder is a type of neural network used to learn efficient representations of data, typically for the purpose of anomaly detection. We start by defining the input dimensions based on the scaled features. The architecture includes an encoder that compresses the input into a lower-dimensional representation, and a decoder that reconstructs the input from this representation. The model is then compiled using the Adam optimizer and mean squared error as the loss function.\n"
      ],
      "metadata": {
        "id": "Pq2gXXTCm84t"
      }
    },
    {
      "cell_type": "code",
      "source": [
        "# Defining input dimensions\n",
        "input_dim = scaled_features.shape[1]\n",
        "\n",
        "# Defining Autoencoder architecture\n",
        "input_layer = Input(shape=(input_dim,))\n",
        "encoder = Dense(32, activation=\"relu\")(input_layer)\n",
        "encoder = Dense(16, activation=\"relu\")(encoder)\n",
        "encoder = Dense(8, activation=\"relu\")(encoder)\n",
        "decoder = Dense(16, activation=\"relu\")(encoder)\n",
        "decoder = Dense(32, activation=\"relu\")(decoder)\n",
        "output_layer = Dense(input_dim, activation=\"sigmoid\")(decoder)\n",
        "\n",
        "autoencoder = Model(inputs=input_layer, outputs=output_layer)\n",
        "\n",
        "# Compilamos el modelo\n",
        "autoencoder.compile(optimizer='adam', loss='mean_squared_error')"
      ],
      "metadata": {
        "colab": {
          "base_uri": "https://localhost:8080/"
        },
        "id": "Qf5Jd-M_BkFi",
        "outputId": "1f3f0059-1624-4d18-f706-5c6e3fe6badd"
      },
      "execution_count": null,
      "outputs": [
        {
          "output_type": "stream",
          "name": "stdout",
          "text": [
            "Epoch 1/50\n",
            "142982/142982 [==============================] - 427s 3ms/step - loss: 0.5986 - val_loss: 0.5971\n",
            "Epoch 2/50\n",
            "142982/142982 [==============================] - 420s 3ms/step - loss: 0.5976 - val_loss: 0.5969\n",
            "Epoch 3/50\n",
            "142982/142982 [==============================] - 377s 3ms/step - loss: 0.5975 - val_loss: 0.5968\n",
            "Epoch 4/50\n",
            "142982/142982 [==============================] - 382s 3ms/step - loss: 0.5975 - val_loss: 0.5968\n",
            "Epoch 5/50\n",
            "142982/142982 [==============================] - 416s 3ms/step - loss: 0.5975 - val_loss: 0.5968\n",
            "Epoch 6/50\n",
            "142982/142982 [==============================] - 420s 3ms/step - loss: 0.5975 - val_loss: 0.5968\n",
            "Epoch 7/50\n",
            "142982/142982 [==============================] - 416s 3ms/step - loss: 0.5975 - val_loss: 0.5968\n",
            "Epoch 8/50\n",
            "142982/142982 [==============================] - 380s 3ms/step - loss: 0.5975 - val_loss: 0.5969\n",
            "Epoch 9/50\n",
            "142982/142982 [==============================] - 420s 3ms/step - loss: 0.5975 - val_loss: 0.5968\n",
            "Epoch 10/50\n",
            "142982/142982 [==============================] - 428s 3ms/step - loss: 0.5975 - val_loss: 0.5968\n",
            "Epoch 11/50\n",
            "142982/142982 [==============================] - 405s 3ms/step - loss: 0.5975 - val_loss: 0.5968\n",
            "Epoch 12/50\n",
            "142982/142982 [==============================] - 409s 3ms/step - loss: 0.5975 - val_loss: 0.5968\n",
            "Epoch 13/50\n",
            "142982/142982 [==============================] - 451s 3ms/step - loss: 0.5975 - val_loss: 0.5968\n",
            "Epoch 14/50\n",
            "142982/142982 [==============================] - 431s 3ms/step - loss: 0.5975 - val_loss: 0.5969\n",
            "Epoch 15/50\n",
            "142982/142982 [==============================] - 401s 3ms/step - loss: 0.5975 - val_loss: 0.5968\n",
            "Epoch 16/50\n",
            "142982/142982 [==============================] - 430s 3ms/step - loss: 0.5975 - val_loss: 0.5968\n",
            "Epoch 17/50\n",
            "142982/142982 [==============================] - 436s 3ms/step - loss: 0.5975 - val_loss: 0.5968\n",
            "Epoch 18/50\n",
            "142982/142982 [==============================] - 390s 3ms/step - loss: 0.5975 - val_loss: 0.5968\n",
            "Epoch 19/50\n",
            "142982/142982 [==============================] - 418s 3ms/step - loss: 0.5975 - val_loss: 0.5968\n",
            "Epoch 20/50\n",
            "142982/142982 [==============================] - 420s 3ms/step - loss: 0.5975 - val_loss: 0.5968\n"
          ]
        },
        {
          "output_type": "execute_result",
          "data": {
            "text/plain": [
              "<keras.src.callbacks.History at 0x7e2829492d10>"
            ]
          },
          "metadata": {},
          "execution_count": 12
        }
      ]
    },
    {
      "cell_type": "markdown",
      "source": [
        "## Split the dataset and train the model\n",
        "\n",
        "In this step, we split the scaled dataset into training and testing sets with an 80-20 ratio to evaluate our model's performance. We then define an early stopping callback to prevent overfitting by stopping training when the validation loss does not improve for 5 consecutive epochs. Finally, we train the autoencoder model on the training data, allowing it to learn how to reconstruct the input data. The early stopping callback helps ensure that the model retains the best weights achieved during training.\n",
        "\n",
        "\n",
        "**Warning:** The next code takes at least 2 hours to execute. Execute at your own risk"
      ],
      "metadata": {
        "id": "iyw3pN9tnFeQ"
      }
    },
    {
      "cell_type": "code",
      "source": [
        "X_train, X_test = train_test_split(scaled_features, test_size=0.2, random_state=42)\n",
        "\n",
        "early_stopping = EarlyStopping(monitor='val_loss', patience=5, restore_best_weights=True)\n",
        "\n",
        "autoencoder.fit(X_train, X_train, epochs=50, batch_size=32, validation_split=0.2, callbacks=[early_stopping])"
      ],
      "metadata": {
        "id": "mkZpasQLnCF1"
      },
      "execution_count": null,
      "outputs": []
    },
    {
      "cell_type": "markdown",
      "source": [
        "# Model evaluation\n",
        "\n",
        "In this section, we evaluate the trained autoencoder model by making predictions on the test dataset. We calculate the mean squared error (MSE) between the original and reconstructed data points to determine how well the model can reconstruct normal data. To detect anomalies, we set a threshold based on the 95th percentile of the MSE values. Any data point with an MSE above this threshold is considered an anomaly. We then count and print the number of anomalies detected and list their indices."
      ],
      "metadata": {
        "id": "AsEBs1P4l9QJ"
      }
    },
    {
      "cell_type": "code",
      "source": [
        "# Evaluate model\n",
        "# Prediction with test split data\n",
        "reconstructed = autoencoder.predict(X_test)\n",
        "mse = np.mean(np.power(X_test - reconstructed, 2), axis=1)\n",
        "\n",
        "threshold = np.percentile(mse, 95)\n",
        "\n",
        "anomalies = mse > threshold\n",
        "\n",
        "print(f'Amount of anomalies detected: {np.sum(anomalies)}')\n"
      ],
      "metadata": {
        "colab": {
          "base_uri": "https://localhost:8080/"
        },
        "id": "nQqW7g8xElBw",
        "outputId": "236afa39-0b9b-44d2-f5a1-7bf423d074de"
      },
      "execution_count": null,
      "outputs": [
        {
          "output_type": "stream",
          "name": "stdout",
          "text": [
            "44682/44682 [==============================] - 70s 2ms/step\n",
            "Número de anomalías detectadas: 71491\n"
          ]
        }
      ]
    },
    {
      "cell_type": "code",
      "source": [
        "# Getting detected anomalies indexes\n",
        "anomaly_indices = np.where(mse > threshold)[0]\n",
        "\n",
        "# Print anomalies indexes\n",
        "print(\"Detected anomalies indexes:\")\n",
        "print(anomaly_indices)"
      ],
      "metadata": {
        "colab": {
          "base_uri": "https://localhost:8080/"
        },
        "id": "4ryroh63n60y",
        "outputId": "cf2cb191-47f7-452b-9709-eb736f03b461"
      },
      "execution_count": null,
      "outputs": [
        {
          "output_type": "stream",
          "name": "stdout",
          "text": [
            "Índices de las anomalías detectadas:\n",
            "[     80      99     173 ... 1429677 1429695 1429715]\n"
          ]
        }
      ]
    },
    {
      "cell_type": "markdown",
      "source": [
        "Here, we locate and print a specific row from the original DataFrame df based on a given index (1429677 in this case). This step helps us inspect the data point that was detected as an anomaly, allowing us to understand the nature of the anomalies detected by the model."
      ],
      "metadata": {
        "id": "jj88gcaioM3E"
      }
    },
    {
      "cell_type": "code",
      "source": [
        "fila_especifica = df.loc[1429677]\n",
        "\n",
        "print(fila_especifica)\n"
      ],
      "metadata": {
        "colab": {
          "base_uri": "https://localhost:8080/"
        },
        "id": "64eCfy5in95h",
        "outputId": "cf44ac0c-d199-4706-eee5-964f889727f9"
      },
      "execution_count": null,
      "outputs": [
        {
          "output_type": "stream",
          "name": "stdout",
          "text": [
            "AverageTemperature      10.183\n",
            "Latitude                34.560\n",
            "Longitude              -81.730\n",
            "Month                   11.000\n",
            "Year                  1871.000\n",
            "Name: 1429677, dtype: float64\n"
          ]
        }
      ]
    },
    {
      "cell_type": "markdown",
      "source": [
        "# Convert the model to TensorFlow Lite\n",
        "\n",
        "In this final step, we convert the trained autoencoder model into the TensorFlow Lite format. TensorFlow Lite models are optimized for mobile and embedded device deployment, making them ideal for TinyML applications. After conversion, we save the model as a .tflite file, which can then be deployed on edge devices for real-time anomaly detection."
      ],
      "metadata": {
        "id": "WeU70nVFoRq7"
      }
    },
    {
      "cell_type": "code",
      "source": [
        "# Convertir el modelo a TensorFlow Lite\n",
        "converter = tf.lite.TFLiteConverter.from_keras_model(autoencoder)\n",
        "tflite_model = converter.convert()\n",
        "\n",
        "# Guardar el modelo convertido\n",
        "with open('model.tflite', 'wb') as f:\n",
        "    f.write(tflite_model)\n"
      ],
      "metadata": {
        "id": "jNG1qMJwmFO5"
      },
      "execution_count": null,
      "outputs": []
    }
  ]
}